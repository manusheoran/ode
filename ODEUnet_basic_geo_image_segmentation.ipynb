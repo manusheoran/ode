{
  "nbformat": 4,
  "nbformat_minor": 0,
  "metadata": {
    "colab": {
      "name": "ODEUnet_basic_geo_image_segmentation_unet_train_code.ipynb",
      "provenance": [],
      "collapsed_sections": []
    },
    "kernelspec": {
      "name": "python3",
      "display_name": "Python 3"
    },
    "accelerator": "GPU"
  },
  "cells": [
    {
      "cell_type": "code",
      "metadata": {
        "id": "XFhG_WQlLslB",
        "colab_type": "code",
        "outputId": "e38e9879-2eb0-4511-f2d3-39a65956c02b",
        "colab": {
          "base_uri": "https://localhost:8080/",
          "height": 121
        }
      },
      "source": [
        "!git clone https://github.com/usuyama/pytorch-unet"
      ],
      "execution_count": 1,
      "outputs": [
        {
          "output_type": "stream",
          "text": [
            "Cloning into 'pytorch-unet'...\n",
            "remote: Enumerating objects: 7, done.\u001b[K\n",
            "remote: Counting objects:  14% (1/7)\u001b[K\rremote: Counting objects:  28% (2/7)\u001b[K\rremote: Counting objects:  42% (3/7)\u001b[K\rremote: Counting objects:  57% (4/7)\u001b[K\rremote: Counting objects:  71% (5/7)\u001b[K\rremote: Counting objects:  85% (6/7)\u001b[K\rremote: Counting objects: 100% (7/7)\u001b[K\rremote: Counting objects: 100% (7/7), done.\u001b[K\n",
            "remote: Compressing objects:  14% (1/7)\u001b[K\rremote: Compressing objects:  28% (2/7)\u001b[K\rremote: Compressing objects:  42% (3/7)\u001b[K\rremote: Compressing objects:  57% (4/7)\u001b[K\rremote: Compressing objects:  71% (5/7)\u001b[K\rremote: Compressing objects:  85% (6/7)\u001b[K\rremote: Compressing objects: 100% (7/7)\u001b[K\rremote: Compressing objects: 100% (7/7), done.\u001b[K\n",
            "Unpacking objects:   1% (1/55)   \rUnpacking objects:   3% (2/55)   \rUnpacking objects:   5% (3/55)   \rUnpacking objects:   7% (4/55)   \rUnpacking objects:   9% (5/55)   \rUnpacking objects:  10% (6/55)   \rUnpacking objects:  12% (7/55)   \rUnpacking objects:  14% (8/55)   \rUnpacking objects:  16% (9/55)   \rUnpacking objects:  18% (10/55)   \rUnpacking objects:  20% (11/55)   \rUnpacking objects:  21% (12/55)   \rUnpacking objects:  23% (13/55)   \rUnpacking objects:  25% (14/55)   \rUnpacking objects:  27% (15/55)   \rUnpacking objects:  29% (16/55)   \rUnpacking objects:  30% (17/55)   \rUnpacking objects:  32% (18/55)   \rUnpacking objects:  34% (19/55)   \rUnpacking objects:  36% (20/55)   \rUnpacking objects:  38% (21/55)   \rUnpacking objects:  40% (22/55)   \rUnpacking objects:  41% (23/55)   \rUnpacking objects:  43% (24/55)   \rUnpacking objects:  45% (25/55)   \rUnpacking objects:  47% (26/55)   \rUnpacking objects:  49% (27/55)   \rUnpacking objects:  50% (28/55)   \rUnpacking objects:  52% (29/55)   \rUnpacking objects:  54% (30/55)   \rUnpacking objects:  56% (31/55)   \rUnpacking objects:  58% (32/55)   \rUnpacking objects:  60% (33/55)   \rUnpacking objects:  61% (34/55)   \rUnpacking objects:  63% (35/55)   \rUnpacking objects:  65% (36/55)   \rUnpacking objects:  67% (37/55)   \rUnpacking objects:  69% (38/55)   \rUnpacking objects:  70% (39/55)   \rUnpacking objects:  72% (40/55)   \rremote: Total 55 (delta 2), reused 1 (delta 0), pack-reused 48\u001b[K\n",
            "Unpacking objects:  74% (41/55)   \rUnpacking objects:  76% (42/55)   \rUnpacking objects:  78% (43/55)   \rUnpacking objects:  80% (44/55)   \rUnpacking objects:  81% (45/55)   \rUnpacking objects:  83% (46/55)   \rUnpacking objects:  85% (47/55)   \rUnpacking objects:  87% (48/55)   \rUnpacking objects:  89% (49/55)   \rUnpacking objects:  90% (50/55)   \rUnpacking objects:  92% (51/55)   \rUnpacking objects:  94% (52/55)   \rUnpacking objects:  96% (53/55)   \rUnpacking objects:  98% (54/55)   \rUnpacking objects: 100% (55/55)   \rUnpacking objects: 100% (55/55), done.\n"
          ],
          "name": "stdout"
        }
      ]
    },
    {
      "cell_type": "code",
      "metadata": {
        "id": "pCbYg_ouLyXs",
        "colab_type": "code",
        "outputId": "ed8f7d8d-4833-4c26-cb1f-dfcce11b9fa4",
        "colab": {
          "base_uri": "https://localhost:8080/",
          "height": 35
        }
      },
      "source": [
        "cd \"/content/pytorch-unet\""
      ],
      "execution_count": 2,
      "outputs": [
        {
          "output_type": "stream",
          "text": [
            "/content/pytorch-unet\n"
          ],
          "name": "stdout"
        }
      ]
    },
    {
      "cell_type": "code",
      "metadata": {
        "id": "R_aDy6X8L0PC",
        "colab_type": "code",
        "colab": {}
      },
      "source": [
        "import matplotlib.pyplot as plt\n",
        "import numpy as np\n",
        "import helper\n",
        "import simulation\n",
        "from torch.utils.data import Dataset, DataLoader\n",
        "from torchvision import transforms, datasets, models\n",
        "\n",
        "class SimDataset(Dataset):\n",
        "    def __init__(self, count, transform=None):\n",
        "        self.input_images, self.target_masks = simulation.generate_random_data(192, 192, count=count)\n",
        "        self.transform = transform\n",
        "\n",
        "    def __len__(self):\n",
        "        return len(self.input_images)\n",
        "\n",
        "    def __getitem__(self, idx):\n",
        "        image = self.input_images[idx]\n",
        "        mask = self.target_masks[idx]\n",
        "        if self.transform:\n",
        "            image = self.transform(image)\n",
        "\n",
        "        return [image, mask]\n",
        "\n",
        "# use the same transformations for train/val in this example\n",
        "trans = transforms.Compose([\n",
        "    transforms.ToTensor(),\n",
        "    transforms.Normalize([0.485, 0.456, 0.406], [0.229, 0.224, 0.225]) # imagenet\n",
        "])\n",
        "\n",
        "train_set = SimDataset(1000, transform = trans)\n",
        "val_set = SimDataset(100, transform = trans)\n",
        "\n",
        "image_datasets = {\n",
        "    'train': train_set, 'val': val_set\n",
        "}\n",
        "\n",
        "batch_size = 25\n",
        "\n",
        "dataloaders = {\n",
        "    'train': DataLoader(train_set, batch_size=batch_size, shuffle=True, num_workers=0),\n",
        "    'val': DataLoader(val_set, batch_size=batch_size, shuffle=True, num_workers=0)\n",
        "}"
      ],
      "execution_count": 0,
      "outputs": []
    },
    {
      "cell_type": "code",
      "metadata": {
        "id": "HmjVAMHiL2KR",
        "colab_type": "code",
        "outputId": "40a5fc34-ebad-4951-9519-106699f5b70e",
        "colab": {
          "base_uri": "https://localhost:8080/",
          "height": 183
        }
      },
      "source": [
        "for data in tqdm(dataloaders['train']):\n",
        "  inputs, labels = data[0], data[1]"
      ],
      "execution_count": 4,
      "outputs": [
        {
          "output_type": "error",
          "ename": "NameError",
          "evalue": "ignored",
          "traceback": [
            "\u001b[0;31m---------------------------------------------------------------------------\u001b[0m",
            "\u001b[0;31mNameError\u001b[0m                                 Traceback (most recent call last)",
            "\u001b[0;32m<ipython-input-4-30320e520602>\u001b[0m in \u001b[0;36m<module>\u001b[0;34m()\u001b[0m\n\u001b[0;32m----> 1\u001b[0;31m \u001b[0;32mfor\u001b[0m \u001b[0mdata\u001b[0m \u001b[0;32min\u001b[0m \u001b[0mtqdm\u001b[0m\u001b[0;34m(\u001b[0m\u001b[0mdataloaders\u001b[0m\u001b[0;34m[\u001b[0m\u001b[0;34m'train'\u001b[0m\u001b[0;34m]\u001b[0m\u001b[0;34m)\u001b[0m\u001b[0;34m:\u001b[0m\u001b[0;34m\u001b[0m\u001b[0;34m\u001b[0m\u001b[0m\n\u001b[0m\u001b[1;32m      2\u001b[0m   \u001b[0minputs\u001b[0m\u001b[0;34m,\u001b[0m \u001b[0mlabels\u001b[0m \u001b[0;34m=\u001b[0m \u001b[0mdata\u001b[0m\u001b[0;34m[\u001b[0m\u001b[0;36m0\u001b[0m\u001b[0;34m]\u001b[0m\u001b[0;34m,\u001b[0m \u001b[0mdata\u001b[0m\u001b[0;34m[\u001b[0m\u001b[0;36m1\u001b[0m\u001b[0;34m]\u001b[0m\u001b[0;34m\u001b[0m\u001b[0;34m\u001b[0m\u001b[0m\n",
            "\u001b[0;31mNameError\u001b[0m: name 'tqdm' is not defined"
          ]
        }
      ]
    },
    {
      "cell_type": "code",
      "metadata": {
        "id": "aj7QNDnoxDkY",
        "colab_type": "code",
        "colab": {}
      },
      "source": [
        "def count_parameters(model):\n",
        "    return sum(p.numel() for p in model.parameters() if p.requires_grad)"
      ],
      "execution_count": 0,
      "outputs": []
    },
    {
      "cell_type": "code",
      "metadata": {
        "id": "WVNE3zLlxjwV",
        "colab_type": "code",
        "colab": {}
      },
      "source": [
        "count_parameters(model)"
      ],
      "execution_count": 0,
      "outputs": []
    },
    {
      "cell_type": "code",
      "metadata": {
        "id": "GTw2PWsEMZdF",
        "colab_type": "code",
        "colab": {}
      },
      "source": [
        "from __future__ import print_function\n",
        "from tqdm import tqdm, tqdm_notebook"
      ],
      "execution_count": 0,
      "outputs": []
    },
    {
      "cell_type": "code",
      "metadata": {
        "id": "CliqxeJKM3Pa",
        "colab_type": "code",
        "colab": {}
      },
      "source": [
        "print(inputs.size(), labels.size())"
      ],
      "execution_count": 0,
      "outputs": []
    },
    {
      "cell_type": "code",
      "metadata": {
        "id": "BsGaQBzxN3Du",
        "colab_type": "code",
        "outputId": "d2527337-67b9-4fbd-bf37-b05693d9ca2c",
        "colab": {
          "base_uri": "https://localhost:8080/",
          "height": 228
        }
      },
      "source": [
        "import torch\n",
        "import torch.utils.data\n",
        "import torch.nn as nn\n",
        "import torch.nn.functional as F\n",
        "import numpy as np\n",
        "import matplotlib.pyplot as plt\n",
        "import PIL\n",
        "import skimage.measure\n",
        "from tqdm import tqdm, tqdm_notebook\n",
        "!pip install git+https://github.com/rtqichen/torchdiffeq\n",
        "from torchdiffeq import odeint, odeint_adjoint\n",
        "\n",
        "MAX_NUM_STEPS = 1000  # Maximum number of steps for ODE solver\n",
        "\n",
        "class ODEBlock(nn.Module):\n",
        "    def __init__(self, odefunc, tol=10, adjoint=False):\n",
        "        \"\"\"\n",
        "        Code adapted from https://github.com/EmilienDupont/augmented-neural-odes\n",
        "        Utility class that wraps odeint and odeint_adjoint.\n",
        "        Args:\n",
        "            odefunc (nn.Module): the module to be evaluated\n",
        "            tol (float): tolerance for the ODE solver\n",
        "            adjoint (bool): whether to use the adjoint method for gradient calculation\n",
        "        \"\"\"\n",
        "        super(ODEBlock, self).__init__()\n",
        "        self.adjoint = adjoint\n",
        "        self.odefunc = odefunc\n",
        "        self.tol = tol\n",
        "\n",
        "    def forward(self, x, eval_times=None):\n",
        "        # Forward pass corresponds to solving ODE, so reset number of function\n",
        "        # evaluations counter\n",
        "        self.odefunc.nfe = 0\n",
        "\n",
        "        if eval_times is None:\n",
        "            integration_time = torch.tensor([0, 1]).float().type_as(x)\n",
        "        else:\n",
        "            integration_time = eval_times.type_as(x)\n",
        "\n",
        "        if self.adjoint:\n",
        "            out = odeint_adjoint(self.odefunc, x, integration_time,\n",
        "                                 rtol=self.tol, atol=self.tol, method='euler',\n",
        "                                 options={'max_num_steps': MAX_NUM_STEPS})\n",
        "        else:\n",
        "            out = odeint(self.odefunc, x, integration_time,\n",
        "                         rtol=self.tol, atol=self.tol, method='euler',\n",
        "                         options={'max_num_steps': MAX_NUM_STEPS})\n",
        "\n",
        "        if eval_times is None:\n",
        "            return out[1]  # Return only final time\n",
        "        else:\n",
        "            return out\n",
        "\n",
        "    def trajectory(self, x, timesteps):\n",
        "        integration_time = torch.linspace(0., 1., timesteps)\n",
        "        return self.forward(x, eval_times=integration_time)\n",
        "\n",
        "\n",
        "class Conv2dTime(nn.Conv2d):\n",
        "    def __init__(self, in_channels, *args, **kwargs):\n",
        "        \"\"\"\n",
        "        Code adapted from https://github.com/EmilienDupont/augmented-neural-odes\n",
        "        Conv2d module where time gets concatenated as a feature map.\n",
        "        Makes ODE func aware of the current time step.\n",
        "        \"\"\"\n",
        "        super(Conv2dTime, self).__init__(in_channels + 1, *args, **kwargs)\n",
        "\n",
        "    def forward(self, t, x):\n",
        "        # Shape (batch_size, 1, height, width)\n",
        "        t_img = torch.ones_like(x[:, :1, :, :]) * t\n",
        "        # Shape (batch_size, channels + 1, height, width)\n",
        "        t_and_x = torch.cat([t_img, x], 1)\n",
        "        return super(Conv2dTime, self).forward(t_and_x)\n",
        "\n",
        "def get_nonlinearity(name):\n",
        "    \"\"\"Helper function to get non linearity module, choose from relu/softplus/swish/lrelu\"\"\"\n",
        "    if name == 'relu':\n",
        "        return nn.ReLU(inplace=True)\n",
        "    elif name == 'softplus':\n",
        "        return nn.Softplus()\n",
        "    elif name == 'swish':\n",
        "        return Swish(inplace=True)\n",
        "    elif name == 'lrelu':\n",
        "        return nn.LeakyReLU()\n",
        "\n",
        "class Swish(nn.Module):\n",
        "    def __init__(self, inplace=False):\n",
        "        \"\"\"The Swish non linearity function\"\"\"\n",
        "        super().__init__()\n",
        "        self.inplace = True\n",
        "\n",
        "    def forward(self, x):\n",
        "        if self.inplace:\n",
        "            x.mul_(F.sigmoid(x))\n",
        "            return x\n",
        "        else:\n",
        "            return x * F.sigmoid(x)\n",
        "\n",
        "class ConvODEFunc(nn.Module):\n",
        "    def __init__(self, num_filters, time_dependent=False, non_linearity='relu'):\n",
        "        \"\"\"\n",
        "        Block for ConvODEUNet\n",
        "        Args:\n",
        "            num_filters (int): number of filters for the conv layers\n",
        "            time_dependent (bool): whether to concat the time as a feature map before the convs\n",
        "            non_linearity (str): which non_linearity to use (for options see get_nonlinearity)\n",
        "        \"\"\"\n",
        "        super(ConvODEFunc, self).__init__()\n",
        "        nf = num_filters\n",
        "        self.time_dependent = time_dependent\n",
        "        self.nfe = 0  # Number of function evaluations\n",
        "\n",
        "        self.norm = nn.InstanceNorm2d(nf)\n",
        "        if time_dependent:\n",
        "            self.conv1 = Conv2dTime(nf, nf, kernel_size=3, stride=1, padding=1)\n",
        "            self.conv2 = Conv2dTime(nf, nf, kernel_size=3, stride=1, padding=1)\n",
        "        else:\n",
        "            self.conv1 = nn.Conv2d(nf, nf, kernel_size=3, stride=1, padding=1)\n",
        "            self.conv2 = nn.Conv2d(nf, nf, kernel_size=3, stride=1, padding=1)\n",
        "\n",
        "        self.non_linearity = get_nonlinearity(non_linearity)\n",
        "\n",
        "    def forward(self, t, x):\n",
        "        self.nfe += 1\n",
        "        out = self.norm(x)\n",
        "        out = self.conv1(t, out) if self.time_dependent else self.conv1(out)\n",
        "        out = self.non_linearity(out)\n",
        "        out = self.norm(out)\n",
        "        out = self.conv2(t, out) if self.time_dependent else self.conv2(out)\n",
        "        out = self.non_linearity(out)\n",
        "        return out\n",
        "\n",
        "class ConvODEUNet(nn.Module):\n",
        "    def __init__(self, num_filters, output_dim=6, time_dependent=False,\n",
        "                 non_linearity='softplus', tol=10, adjoint=False):\n",
        "        \"\"\"\n",
        "        ConvODEUNet (U-Node in paper)\n",
        "        Args:\n",
        "            num_filters (int): number of filters for first conv layer\n",
        "            output_dim (int): how many feature maps the network outputs\n",
        "            time_dependent (bool): whether to concat the time as a feature map before the convs\n",
        "            non_linearity (str): which non_linearity to use (for options see get_nonlinearity)\n",
        "            tol (float): tolerance to be used for ODE solver\n",
        "            adjoint (bool): whether to use the adjoint method to calculate the gradients\n",
        "        \"\"\"\n",
        "        super(ConvODEUNet, self).__init__()\n",
        "        nf = num_filters\n",
        "\n",
        "        self.input_1x1 = nn.Conv2d(3, nf, 1, 1)\n",
        "\n",
        "        ode_down1 = ConvODEFunc(nf, time_dependent, non_linearity)\n",
        "        self.odeblock_down1 = ODEBlock(ode_down1, tol=tol, adjoint=adjoint)\n",
        "        self.conv_down1_2 = nn.Conv2d(nf, nf*2, 1, 1)\n",
        "\n",
        "        ode_down2 = ConvODEFunc(nf*2, time_dependent, non_linearity)\n",
        "        self.odeblock_down2 = ODEBlock(ode_down2, tol=tol, adjoint=adjoint)\n",
        "        self.conv_down2_3 = nn.Conv2d(nf*2, nf*4, 1, 1)\n",
        "\n",
        "        ode_down3 = ConvODEFunc(nf*4, time_dependent, non_linearity)\n",
        "        self.odeblock_down3 = ODEBlock(ode_down3, tol=tol, adjoint=adjoint)\n",
        "        self.conv_down3_4 = nn.Conv2d(nf*4, nf*8, 1, 1)\n",
        "\n",
        "        ode_down4 = ConvODEFunc(nf*8, time_dependent, non_linearity)\n",
        "        self.odeblock_down4 = ODEBlock(ode_down4,  tol=tol, adjoint=adjoint)\n",
        "        self.conv_down4_embed = nn.Conv2d(nf*8, nf*16, 1, 1)\n",
        "\n",
        "        ode_embed = ConvODEFunc(nf*16, time_dependent, non_linearity)\n",
        "        self.odeblock_embedding = ODEBlock(ode_embed,  tol=tol, adjoint=adjoint)\n",
        "\n",
        "        self.conv_up_embed_1 = nn.Conv2d(nf*16+nf*8, nf*8, 1, 1)\n",
        "        ode_up1 = ConvODEFunc(nf*8, time_dependent, non_linearity)\n",
        "        self.odeblock_up1 = ODEBlock(ode_up1, tol=tol, adjoint=adjoint)\n",
        "\n",
        "        self.conv_up1_2 = nn.Conv2d(nf*8+nf*4, nf*4, 1, 1)\n",
        "        ode_up2 = ConvODEFunc(nf*4, time_dependent, non_linearity)\n",
        "        self.odeblock_up2 = ODEBlock(ode_up2, tol=tol, adjoint=adjoint)\n",
        "\n",
        "        self.conv_up2_3 = nn.Conv2d(nf*4+nf*2, nf*2, 1, 1)\n",
        "        ode_up3 = ConvODEFunc(nf*2, time_dependent, non_linearity)\n",
        "        self.odeblock_up3 = ODEBlock(ode_up3, tol=tol, adjoint=adjoint)\n",
        "\n",
        "        self.conv_up3_4 = nn.Conv2d(nf*2+nf, nf, 1, 1)\n",
        "        ode_up4 = ConvODEFunc(nf, time_dependent, non_linearity)\n",
        "        self.odeblock_up4 = ODEBlock(ode_up4, tol=tol, adjoint=adjoint)\n",
        "\n",
        "        self.classifier = nn.Conv2d(nf, output_dim, 1)\n",
        "\n",
        "        self.non_linearity = get_nonlinearity(non_linearity)\n",
        "\n",
        "    def forward(self, x, return_features=False):\n",
        "        x = self.non_linearity(self.input_1x1(x))\n",
        "\n",
        "        features1 = self.odeblock_down1(x)  # 512\n",
        "        x = self.non_linearity(self.conv_down1_2(features1))\n",
        "        x = nn.functional.interpolate(x, scale_factor=0.5, mode='bilinear', align_corners=False)\n",
        "\n",
        "        features2 = self.odeblock_down2(x)  # 256\n",
        "        x = self.non_linearity(self.conv_down2_3(features2))\n",
        "        x = nn.functional.interpolate(x, scale_factor=0.5, mode='bilinear', align_corners=False)\n",
        "\n",
        "        features3 = self.odeblock_down3(x)  # 128\n",
        "        x = self.non_linearity(self.conv_down3_4(features3))\n",
        "        x = nn.functional.interpolate(x, scale_factor=0.5, mode='bilinear', align_corners=False)\n",
        "\n",
        "        features4 = self.odeblock_down4(x)  # 64\n",
        "        x = self.non_linearity(self.conv_down4_embed(features4))\n",
        "        x = nn.functional.interpolate(x, scale_factor=0.5, mode='bilinear', align_corners=False)\n",
        "\n",
        "        x = self.odeblock_embedding(x)  # 32\n",
        "\n",
        "        x = nn.functional.interpolate(x, scale_factor=2, mode='bilinear', align_corners=False)\n",
        "        x = torch.cat((x, features4), dim=1)\n",
        "        x = self.non_linearity(self.conv_up_embed_1(x))\n",
        "        x = self.odeblock_up1(x)\n",
        "\n",
        "        x = nn.functional.interpolate(x, scale_factor=2, mode='bilinear', align_corners=False)\n",
        "        x = torch.cat((x, features3), dim=1)\n",
        "        x = self.non_linearity(self.conv_up1_2(x))\n",
        "        x = self.odeblock_up2(x)\n",
        "\n",
        "        x = nn.functional.interpolate(x, scale_factor=2, mode='bilinear', align_corners=False)\n",
        "        x = torch.cat((x, features2), dim=1)\n",
        "        x = self.non_linearity(self.conv_up2_3(x))\n",
        "        x = self.odeblock_up3(x)\n",
        "\n",
        "        x = nn.functional.interpolate(x, scale_factor=2, mode='bilinear', align_corners=False)\n",
        "        x = torch.cat((x, features1), dim=1)\n",
        "        x = self.non_linearity(self.conv_up3_4(x))\n",
        "        x = self.odeblock_up4(x)\n",
        "\n",
        "        pred = self.classifier(x)\n",
        "        return pred\n",
        "def plot_losses(inputs, outputs, losses, val_losses, title, nfe=None, net=None):\n",
        "    # plot statistics\n",
        "    if nfe is not None:\n",
        "        nfe[0].append(net.odeblock_down1.odefunc.nfe)\n",
        "        nfe[1].append(net.odeblock_down2.odefunc.nfe)\n",
        "        nfe[2].append(net.odeblock_down3.odefunc.nfe)\n",
        "        nfe[3].append(net.odeblock_down4.odefunc.nfe)\n",
        "        nfe[4].append(net.odeblock_embedding.odefunc.nfe)\n",
        "        nfe[5].append(net.odeblock_up1.odefunc.nfe)\n",
        "        nfe[6].append(net.odeblock_up2.odefunc.nfe)\n",
        "        nfe[7].append(net.odeblock_up3.odefunc.nfe)\n",
        "        nfe[8].append(net.odeblock_up4.odefunc.nfe)\n",
        "\n",
        "    if nfe is not None: cols = 4\n",
        "    else: cols = 3\n",
        "    fig, ax = plt.subplots(nrows=1, ncols=cols, figsize=(15, 5))\n",
        "\n",
        "    fig.suptitle(title, fontsize=16)\n",
        "\n",
        "    ax[0].plot(np.arange(len(losses)), losses, label=\"loss\")\n",
        "    ax[0].plot(np.arange(len(val_losses)), val_losses, label=\"val_loss\")\n",
        "\n",
        "    if nfe is not None:\n",
        "        ax[3].plot(np.arange(len(nfe[0])), nfe[0], label=\"down1\")\n",
        "        ax[3].plot(np.arange(len(nfe[0])), nfe[1], label=\"down2\")\n",
        "        ax[3].plot(np.arange(len(nfe[0])), nfe[2], label=\"down3\")\n",
        "        ax[3].plot(np.arange(len(nfe[0])), nfe[3], label=\"down4\")\n",
        "        ax[3].plot(np.arange(len(nfe[0])), nfe[4], label=\"embed\")\n",
        "        ax[3].plot(np.arange(len(nfe[0])), nfe[5], label=\"up1\")\n",
        "        ax[3].plot(np.arange(len(nfe[0])), nfe[6], label=\"up2\")\n",
        "        ax[3].plot(np.arange(len(nfe[0])), nfe[7], label=\"up3\")\n",
        "        ax[3].plot(np.arange(len(nfe[0])), nfe[8], label=\"up4\")\n",
        "        ax[3].legend()\n",
        "\n",
        "    outputs = torch.argmax(torch.softmax(outputs, dim=1), dim=1)[0]\n",
        "    outputs = outputs.detach().cpu()\n",
        "    outputs = outputs.numpy()\n",
        "\n",
        "    ax[0].legend()\n",
        "    ax[1].imshow(outputs)\n",
        "    ax[2].imshow(inputs.detach().cpu()[0].numpy().transpose(1, 2, 0))\n",
        "\n",
        "    plt.show()"
      ],
      "execution_count": 5,
      "outputs": [
        {
          "output_type": "stream",
          "text": [
            "Collecting git+https://github.com/rtqichen/torchdiffeq\n",
            "  Cloning https://github.com/rtqichen/torchdiffeq to /tmp/pip-req-build-etrrdwlo\n",
            "  Running command git clone -q https://github.com/rtqichen/torchdiffeq /tmp/pip-req-build-etrrdwlo\n",
            "Requirement already satisfied: torch>=0.4.1 in /usr/local/lib/python3.6/dist-packages (from torchdiffeq==0.0.1) (1.4.0)\n",
            "Building wheels for collected packages: torchdiffeq\n",
            "  Building wheel for torchdiffeq (setup.py) ... \u001b[?25l\u001b[?25hdone\n",
            "  Created wheel for torchdiffeq: filename=torchdiffeq-0.0.1-cp36-none-any.whl size=25884 sha256=3253b4779dee58f8f45580736215f44ce63f249e8e831cb6c9f6dd46abb1d839\n",
            "  Stored in directory: /tmp/pip-ephem-wheel-cache-z3y6wprf/wheels/3f/76/69/01867bf3355c3bc8bae7e556b17b44c395b6cda5e76fd8ddc7\n",
            "Successfully built torchdiffeq\n",
            "Installing collected packages: torchdiffeq\n",
            "Successfully installed torchdiffeq-0.0.1\n"
          ],
          "name": "stdout"
        }
      ]
    },
    {
      "cell_type": "code",
      "metadata": {
        "id": "Pc8SWG9WVbh8",
        "colab_type": "code",
        "colab": {}
      },
      "source": [
        "import torch\n",
        "import torch.optim as optim\n",
        "from torch.optim import lr_scheduler\n",
        "import time\n",
        "import copy\n",
        "from collections import defaultdict\n",
        "import torch.nn.functional as F\n",
        "from loss import dice_loss\n",
        "\n",
        "def calc_loss(pred, target, metrics, bce_weight=0.5):\n",
        "    bce = F.binary_cross_entropy_with_logits(pred, target)\n",
        "\n",
        "    pred = F.sigmoid(pred)\n",
        "    dice = dice_loss(pred, target)\n",
        "\n",
        "    loss = bce * bce_weight + dice * (1 - bce_weight)\n",
        "\n",
        "    metrics['bce'] += bce.data.cpu().numpy() * target.size(0)\n",
        "    metrics['dice'] += dice.data.cpu().numpy() * target.size(0)\n",
        "    metrics['loss'] += loss.data.cpu().numpy() * target.size(0)\n",
        "\n",
        "    return loss\n",
        "\n",
        "def print_metrics(metrics, epoch_samples, phase):\n",
        "    outputs = []\n",
        "    for k in metrics.keys():\n",
        "        outputs.append(\"{}: {:4f}\".format(k, metrics[k] / epoch_samples))\n",
        "\n",
        "    print(\"{}: {}\".format(phase, \", \".join(outputs)))\n",
        "\n",
        "def train_model(model, optimizer, scheduler, num_epochs=25):\n",
        "    best_model_wts = copy.deepcopy(model.state_dict())\n",
        "    best_loss = 1e10\n",
        "\n",
        "    for epoch in range(num_epochs):\n",
        "        print('Epoch {}/{}'.format(epoch, num_epochs - 1))\n",
        "        print('-' * 10)\n",
        "\n",
        "        since = time.time()\n",
        "\n",
        "        # Each epoch has a training and validation phase\n",
        "        for phase in ['train', 'val']:\n",
        "            if phase == 'train':\n",
        "                scheduler.step()\n",
        "                for param_group in optimizer.param_groups:\n",
        "                    print(\"LR\", param_group['lr'])\n",
        "\n",
        "                model.train()  # Set model to training mode\n",
        "            else:\n",
        "                model.eval()   # Set model to evaluate mode\n",
        "\n",
        "            metrics = defaultdict(float)\n",
        "            epoch_samples = 0\n",
        "\n",
        "            for inputs, labels in tqdm(dataloaders[phase]):\n",
        "                inputs = inputs.to(device)\n",
        "                labels = labels.to(device)\n",
        "\n",
        "                # zero the parameter gradients\n",
        "                optimizer.zero_grad()\n",
        "\n",
        "                # forward\n",
        "                # track history if only in train\n",
        "                with torch.set_grad_enabled(phase == 'train'):\n",
        "                    outputs = model(inputs)\n",
        "                    loss = calc_loss(outputs, labels, metrics)\n",
        "\n",
        "                    # backward + optimize only if in training phase\n",
        "                    if phase == 'train':\n",
        "                        loss.backward()\n",
        "                        optimizer.step()\n",
        "\n",
        "                # statistics\n",
        "                epoch_samples += inputs.size(0)\n",
        "\n",
        "            print_metrics(metrics, epoch_samples, phase)\n",
        "            epoch_loss = metrics['loss'] / epoch_samples\n",
        "\n",
        "            # deep copy the model\n",
        "            if phase == 'val' and epoch_loss < best_loss:\n",
        "                print(\"saving best model\")\n",
        "                best_loss = epoch_loss\n",
        "                best_model_wts = copy.deepcopy(model.state_dict())\n",
        "\n",
        "        time_elapsed = time.time() - since\n",
        "        print('{:.0f}m {:.0f}s'.format(time_elapsed // 60, time_elapsed % 60))\n",
        "\n",
        "    print('Best val loss: {:4f}'.format(best_loss))\n",
        "\n",
        "    # load best model weights\n",
        "    model.load_state_dict(best_model_wts)\n",
        "    return model"
      ],
      "execution_count": 0,
      "outputs": []
    },
    {
      "cell_type": "code",
      "metadata": {
        "id": "sDTBLsipZ6NH",
        "colab_type": "code",
        "outputId": "1a0d9bd1-4937-4750-9562-a25bee244c02",
        "colab": {
          "base_uri": "https://localhost:8080/",
          "height": 1000
        }
      },
      "source": [
        "import torch\n",
        "import torch.optim as optim\n",
        "from torch.optim import lr_scheduler\n",
        "import time\n",
        "import copy\n",
        "\n",
        "device = torch.device(\"cuda:0\" if torch.cuda.is_available() else \"cpu\")\n",
        "print(device)\n",
        "\n",
        "num_class = 6\n",
        "model = ConvODEUNet(num_filters=16, output_dim=6, time_dependent=True, \n",
        "                      non_linearity='lrelu', adjoint=True, tol=10).to(device)\n",
        "\n",
        "# freeze backbone layers\n",
        "#for l in model.base_layers:\n",
        "#    for param in l.parameters():\n",
        "#        param.requires_grad = False\n",
        "\n",
        "optimizer_ft = optim.Adam(filter(lambda p: p.requires_grad, model.parameters()), lr=1e-4)\n",
        "\n",
        "exp_lr_scheduler = lr_scheduler.StepLR(optimizer_ft, step_size=30, gamma=0.1)\n",
        "\n",
        "model = train_model(model, optimizer_ft, exp_lr_scheduler, num_epochs=60)"
      ],
      "execution_count": 7,
      "outputs": [
        {
          "output_type": "stream",
          "text": [
            "cuda:0\n"
          ],
          "name": "stdout"
        },
        {
          "output_type": "stream",
          "text": [
            "/usr/local/lib/python3.6/dist-packages/torch/optim/lr_scheduler.py:122: UserWarning: Detected call of `lr_scheduler.step()` before `optimizer.step()`. In PyTorch 1.1.0 and later, you should call them in the opposite order: `optimizer.step()` before `lr_scheduler.step()`.  Failure to do this will result in PyTorch skipping the first value of the learning rate schedule. See more details at https://pytorch.org/docs/stable/optim.html#how-to-adjust-learning-rate\n",
            "  \"https://pytorch.org/docs/stable/optim.html#how-to-adjust-learning-rate\", UserWarning)\n",
            "\r  0%|          | 0/40 [00:00<?, ?it/s]"
          ],
          "name": "stderr"
        },
        {
          "output_type": "stream",
          "text": [
            "Epoch 0/59\n",
            "----------\n",
            "LR 0.0001\n"
          ],
          "name": "stdout"
        },
        {
          "output_type": "stream",
          "text": [
            "/usr/local/lib/python3.6/dist-packages/torchdiffeq/_impl/misc.py:81: UserWarning: Euler: Unexpected arguments {'max_num_steps': 1000}\n",
            "  warnings.warn('{}: Unexpected arguments {}'.format(solver.__class__.__name__, unused_kwargs))\n",
            "/usr/local/lib/python3.6/dist-packages/torch/nn/functional.py:1351: UserWarning: nn.functional.sigmoid is deprecated. Use torch.sigmoid instead.\n",
            "  warnings.warn(\"nn.functional.sigmoid is deprecated. Use torch.sigmoid instead.\")\n",
            "100%|██████████| 40/40 [00:12<00:00,  3.38it/s]\n",
            " 50%|█████     | 2/4 [00:00<00:00, 10.36it/s]"
          ],
          "name": "stderr"
        },
        {
          "output_type": "stream",
          "text": [
            "train: bce: 0.633481, dice: 0.988836, loss: 0.811159\n"
          ],
          "name": "stdout"
        },
        {
          "output_type": "stream",
          "text": [
            "100%|██████████| 4/4 [00:00<00:00, 10.08it/s]\n",
            "  0%|          | 0/40 [00:00<?, ?it/s]"
          ],
          "name": "stderr"
        },
        {
          "output_type": "stream",
          "text": [
            "val: bce: 0.523632, dice: 0.990647, loss: 0.757140\n",
            "saving best model\n",
            "0m 13s\n",
            "Epoch 1/59\n",
            "----------\n",
            "LR 0.0001\n"
          ],
          "name": "stdout"
        },
        {
          "output_type": "stream",
          "text": [
            "100%|██████████| 40/40 [00:11<00:00,  3.45it/s]\n",
            " 50%|█████     | 2/4 [00:00<00:00, 10.61it/s]"
          ],
          "name": "stderr"
        },
        {
          "output_type": "stream",
          "text": [
            "train: bce: 0.382943, dice: 0.988509, loss: 0.685726\n"
          ],
          "name": "stdout"
        },
        {
          "output_type": "stream",
          "text": [
            "100%|██████████| 4/4 [00:00<00:00, 10.63it/s]\n",
            "  0%|          | 0/40 [00:00<?, ?it/s]"
          ],
          "name": "stderr"
        },
        {
          "output_type": "stream",
          "text": [
            "val: bce: 0.182511, dice: 0.987274, loss: 0.584892\n",
            "saving best model\n",
            "0m 12s\n",
            "Epoch 2/59\n",
            "----------\n",
            "LR 0.0001\n"
          ],
          "name": "stdout"
        },
        {
          "output_type": "stream",
          "text": [
            "100%|██████████| 40/40 [00:11<00:00,  3.38it/s]\n",
            " 50%|█████     | 2/4 [00:00<00:00, 10.77it/s]"
          ],
          "name": "stderr"
        },
        {
          "output_type": "stream",
          "text": [
            "train: bce: 0.077939, dice: 0.983461, loss: 0.530700\n"
          ],
          "name": "stdout"
        },
        {
          "output_type": "stream",
          "text": [
            "100%|██████████| 4/4 [00:00<00:00, 10.69it/s]\n",
            "  0%|          | 0/40 [00:00<?, ?it/s]"
          ],
          "name": "stderr"
        },
        {
          "output_type": "stream",
          "text": [
            "val: bce: 0.033947, dice: 0.973953, loss: 0.503950\n",
            "saving best model\n",
            "0m 12s\n",
            "Epoch 3/59\n",
            "----------\n",
            "LR 0.0001\n"
          ],
          "name": "stdout"
        },
        {
          "output_type": "stream",
          "text": [
            "100%|██████████| 40/40 [00:11<00:00,  3.44it/s]\n",
            " 50%|█████     | 2/4 [00:00<00:00, 10.50it/s]"
          ],
          "name": "stderr"
        },
        {
          "output_type": "stream",
          "text": [
            "train: bce: 0.031016, dice: 0.899848, loss: 0.465432\n"
          ],
          "name": "stdout"
        },
        {
          "output_type": "stream",
          "text": [
            "100%|██████████| 4/4 [00:00<00:00, 10.48it/s]\n",
            "  0%|          | 0/40 [00:00<?, ?it/s]"
          ],
          "name": "stderr"
        },
        {
          "output_type": "stream",
          "text": [
            "val: bce: 0.022230, dice: 0.808973, loss: 0.415602\n",
            "saving best model\n",
            "0m 12s\n",
            "Epoch 4/59\n",
            "----------\n",
            "LR 0.0001\n"
          ],
          "name": "stdout"
        },
        {
          "output_type": "stream",
          "text": [
            "100%|██████████| 40/40 [00:11<00:00,  3.43it/s]\n",
            " 50%|█████     | 2/4 [00:00<00:00, 10.58it/s]"
          ],
          "name": "stderr"
        },
        {
          "output_type": "stream",
          "text": [
            "train: bce: 0.023525, dice: 0.769805, loss: 0.396665\n"
          ],
          "name": "stdout"
        },
        {
          "output_type": "stream",
          "text": [
            "100%|██████████| 4/4 [00:00<00:00, 10.56it/s]\n",
            "  0%|          | 0/40 [00:00<?, ?it/s]"
          ],
          "name": "stderr"
        },
        {
          "output_type": "stream",
          "text": [
            "val: bce: 0.022066, dice: 0.730337, loss: 0.376202\n",
            "saving best model\n",
            "0m 12s\n",
            "Epoch 5/59\n",
            "----------\n",
            "LR 0.0001\n"
          ],
          "name": "stdout"
        },
        {
          "output_type": "stream",
          "text": [
            "100%|██████████| 40/40 [00:11<00:00,  3.40it/s]\n",
            " 25%|██▌       | 1/4 [00:00<00:00,  9.64it/s]"
          ],
          "name": "stderr"
        },
        {
          "output_type": "stream",
          "text": [
            "train: bce: 0.021516, dice: 0.705392, loss: 0.363454\n"
          ],
          "name": "stdout"
        },
        {
          "output_type": "stream",
          "text": [
            "100%|██████████| 4/4 [00:00<00:00,  9.71it/s]\n",
            "  0%|          | 0/40 [00:00<?, ?it/s]"
          ],
          "name": "stderr"
        },
        {
          "output_type": "stream",
          "text": [
            "val: bce: 0.023206, dice: 0.676335, loss: 0.349771\n",
            "saving best model\n",
            "0m 12s\n",
            "Epoch 6/59\n",
            "----------\n",
            "LR 0.0001\n"
          ],
          "name": "stdout"
        },
        {
          "output_type": "stream",
          "text": [
            "100%|██████████| 40/40 [00:11<00:00,  3.45it/s]\n",
            " 25%|██▌       | 1/4 [00:00<00:00,  9.81it/s]"
          ],
          "name": "stderr"
        },
        {
          "output_type": "stream",
          "text": [
            "train: bce: 0.025262, dice: 0.647101, loss: 0.336182\n"
          ],
          "name": "stdout"
        },
        {
          "output_type": "stream",
          "text": [
            "100%|██████████| 4/4 [00:00<00:00, 10.32it/s]\n",
            "  0%|          | 0/40 [00:00<?, ?it/s]"
          ],
          "name": "stderr"
        },
        {
          "output_type": "stream",
          "text": [
            "val: bce: 0.026650, dice: 0.625797, loss: 0.326224\n",
            "saving best model\n",
            "0m 12s\n",
            "Epoch 7/59\n",
            "----------\n",
            "LR 0.0001\n"
          ],
          "name": "stdout"
        },
        {
          "output_type": "stream",
          "text": [
            "100%|██████████| 40/40 [00:11<00:00,  3.40it/s]\n",
            " 50%|█████     | 2/4 [00:00<00:00, 10.85it/s]"
          ],
          "name": "stderr"
        },
        {
          "output_type": "stream",
          "text": [
            "train: bce: 0.024424, dice: 0.586251, loss: 0.305337\n"
          ],
          "name": "stdout"
        },
        {
          "output_type": "stream",
          "text": [
            "100%|██████████| 4/4 [00:00<00:00, 10.74it/s]\n",
            "  0%|          | 0/40 [00:00<?, ?it/s]"
          ],
          "name": "stderr"
        },
        {
          "output_type": "stream",
          "text": [
            "val: bce: 0.024533, dice: 0.561666, loss: 0.293100\n",
            "saving best model\n",
            "0m 12s\n",
            "Epoch 8/59\n",
            "----------\n",
            "LR 0.0001\n"
          ],
          "name": "stdout"
        },
        {
          "output_type": "stream",
          "text": [
            "100%|██████████| 40/40 [00:11<00:00,  3.45it/s]\n",
            " 50%|█████     | 2/4 [00:00<00:00, 10.34it/s]"
          ],
          "name": "stderr"
        },
        {
          "output_type": "stream",
          "text": [
            "train: bce: 0.023769, dice: 0.552071, loss: 0.287920\n"
          ],
          "name": "stdout"
        },
        {
          "output_type": "stream",
          "text": [
            "100%|██████████| 4/4 [00:00<00:00, 10.25it/s]\n",
            "  0%|          | 0/40 [00:00<?, ?it/s]"
          ],
          "name": "stderr"
        },
        {
          "output_type": "stream",
          "text": [
            "val: bce: 0.025227, dice: 0.531126, loss: 0.278177\n",
            "saving best model\n",
            "0m 12s\n",
            "Epoch 9/59\n",
            "----------\n",
            "LR 0.0001\n"
          ],
          "name": "stdout"
        },
        {
          "output_type": "stream",
          "text": [
            "100%|██████████| 40/40 [00:11<00:00,  3.44it/s]\n",
            " 50%|█████     | 2/4 [00:00<00:00, 10.62it/s]"
          ],
          "name": "stderr"
        },
        {
          "output_type": "stream",
          "text": [
            "train: bce: 0.022186, dice: 0.519579, loss: 0.270882\n"
          ],
          "name": "stdout"
        },
        {
          "output_type": "stream",
          "text": [
            "100%|██████████| 4/4 [00:00<00:00, 10.49it/s]\n",
            "  0%|          | 0/40 [00:00<?, ?it/s]"
          ],
          "name": "stderr"
        },
        {
          "output_type": "stream",
          "text": [
            "val: bce: 0.020268, dice: 0.507385, loss: 0.263826\n",
            "saving best model\n",
            "0m 12s\n",
            "Epoch 10/59\n",
            "----------\n",
            "LR 0.0001\n"
          ],
          "name": "stdout"
        },
        {
          "output_type": "stream",
          "text": [
            "100%|██████████| 40/40 [00:11<00:00,  3.37it/s]\n",
            " 25%|██▌       | 1/4 [00:00<00:00,  9.87it/s]"
          ],
          "name": "stderr"
        },
        {
          "output_type": "stream",
          "text": [
            "train: bce: 0.019042, dice: 0.515063, loss: 0.267053\n"
          ],
          "name": "stdout"
        },
        {
          "output_type": "stream",
          "text": [
            "100%|██████████| 4/4 [00:00<00:00,  9.79it/s]\n",
            "  0%|          | 0/40 [00:00<?, ?it/s]"
          ],
          "name": "stderr"
        },
        {
          "output_type": "stream",
          "text": [
            "val: bce: 0.021622, dice: 0.533775, loss: 0.277699\n",
            "0m 12s\n",
            "Epoch 11/59\n",
            "----------\n",
            "LR 0.0001\n"
          ],
          "name": "stdout"
        },
        {
          "output_type": "stream",
          "text": [
            "100%|██████████| 40/40 [00:11<00:00,  3.46it/s]\n",
            " 50%|█████     | 2/4 [00:00<00:00, 10.71it/s]"
          ],
          "name": "stderr"
        },
        {
          "output_type": "stream",
          "text": [
            "train: bce: 0.020904, dice: 0.504338, loss: 0.262621\n"
          ],
          "name": "stdout"
        },
        {
          "output_type": "stream",
          "text": [
            "100%|██████████| 4/4 [00:00<00:00, 10.67it/s]\n",
            "  0%|          | 0/40 [00:00<?, ?it/s]"
          ],
          "name": "stderr"
        },
        {
          "output_type": "stream",
          "text": [
            "val: bce: 0.021894, dice: 0.500334, loss: 0.261114\n",
            "saving best model\n",
            "0m 12s\n",
            "Epoch 12/59\n",
            "----------\n",
            "LR 0.0001\n"
          ],
          "name": "stdout"
        },
        {
          "output_type": "stream",
          "text": [
            "100%|██████████| 40/40 [00:11<00:00,  3.41it/s]\n",
            " 50%|█████     | 2/4 [00:00<00:00, 10.37it/s]"
          ],
          "name": "stderr"
        },
        {
          "output_type": "stream",
          "text": [
            "train: bce: 0.023492, dice: 0.475343, loss: 0.249418\n"
          ],
          "name": "stdout"
        },
        {
          "output_type": "stream",
          "text": [
            "100%|██████████| 4/4 [00:00<00:00, 10.39it/s]\n",
            "  0%|          | 0/40 [00:00<?, ?it/s]"
          ],
          "name": "stderr"
        },
        {
          "output_type": "stream",
          "text": [
            "val: bce: 0.026512, dice: 0.453998, loss: 0.240255\n",
            "saving best model\n",
            "0m 12s\n",
            "Epoch 13/59\n",
            "----------\n",
            "LR 0.0001\n"
          ],
          "name": "stdout"
        },
        {
          "output_type": "stream",
          "text": [
            "100%|██████████| 40/40 [00:11<00:00,  3.46it/s]\n",
            " 50%|█████     | 2/4 [00:00<00:00, 10.52it/s]"
          ],
          "name": "stderr"
        },
        {
          "output_type": "stream",
          "text": [
            "train: bce: 0.023500, dice: 0.437105, loss: 0.230303\n"
          ],
          "name": "stdout"
        },
        {
          "output_type": "stream",
          "text": [
            "100%|██████████| 4/4 [00:00<00:00, 10.52it/s]\n",
            "  0%|          | 0/40 [00:00<?, ?it/s]"
          ],
          "name": "stderr"
        },
        {
          "output_type": "stream",
          "text": [
            "val: bce: 0.023420, dice: 0.414446, loss: 0.218933\n",
            "saving best model\n",
            "0m 12s\n",
            "Epoch 14/59\n",
            "----------\n",
            "LR 0.0001\n"
          ],
          "name": "stdout"
        },
        {
          "output_type": "stream",
          "text": [
            "100%|██████████| 40/40 [00:11<00:00,  3.44it/s]\n",
            " 50%|█████     | 2/4 [00:00<00:00, 10.63it/s]"
          ],
          "name": "stderr"
        },
        {
          "output_type": "stream",
          "text": [
            "train: bce: 0.021869, dice: 0.416416, loss: 0.219142\n"
          ],
          "name": "stdout"
        },
        {
          "output_type": "stream",
          "text": [
            "100%|██████████| 4/4 [00:00<00:00, 10.60it/s]\n",
            "  0%|          | 0/40 [00:00<?, ?it/s]"
          ],
          "name": "stderr"
        },
        {
          "output_type": "stream",
          "text": [
            "val: bce: 0.019815, dice: 0.410433, loss: 0.215124\n",
            "saving best model\n",
            "0m 12s\n",
            "Epoch 15/59\n",
            "----------\n",
            "LR 0.0001\n"
          ],
          "name": "stdout"
        },
        {
          "output_type": "stream",
          "text": [
            "100%|██████████| 40/40 [00:11<00:00,  3.34it/s]\n",
            " 25%|██▌       | 1/4 [00:00<00:00,  9.80it/s]"
          ],
          "name": "stderr"
        },
        {
          "output_type": "stream",
          "text": [
            "train: bce: 0.020763, dice: 0.407519, loss: 0.214141\n"
          ],
          "name": "stdout"
        },
        {
          "output_type": "stream",
          "text": [
            "100%|██████████| 4/4 [00:00<00:00,  9.88it/s]\n",
            "  0%|          | 0/40 [00:00<?, ?it/s]"
          ],
          "name": "stderr"
        },
        {
          "output_type": "stream",
          "text": [
            "val: bce: 0.020968, dice: 0.423962, loss: 0.222465\n",
            "0m 12s\n",
            "Epoch 16/59\n",
            "----------\n",
            "LR 0.0001\n"
          ],
          "name": "stdout"
        },
        {
          "output_type": "stream",
          "text": [
            "100%|██████████| 40/40 [00:11<00:00,  3.46it/s]\n",
            " 50%|█████     | 2/4 [00:00<00:00, 10.77it/s]"
          ],
          "name": "stderr"
        },
        {
          "output_type": "stream",
          "text": [
            "train: bce: 0.019946, dice: 0.409535, loss: 0.214741\n"
          ],
          "name": "stdout"
        },
        {
          "output_type": "stream",
          "text": [
            "100%|██████████| 4/4 [00:00<00:00, 10.55it/s]\n",
            "  0%|          | 0/40 [00:00<?, ?it/s]"
          ],
          "name": "stderr"
        },
        {
          "output_type": "stream",
          "text": [
            "val: bce: 0.019730, dice: 0.402243, loss: 0.210986\n",
            "saving best model\n",
            "0m 12s\n",
            "Epoch 17/59\n",
            "----------\n",
            "LR 0.0001\n"
          ],
          "name": "stdout"
        },
        {
          "output_type": "stream",
          "text": [
            "100%|██████████| 40/40 [00:11<00:00,  3.44it/s]\n",
            " 50%|█████     | 2/4 [00:00<00:00, 10.42it/s]"
          ],
          "name": "stderr"
        },
        {
          "output_type": "stream",
          "text": [
            "train: bce: 0.019903, dice: 0.400878, loss: 0.210390\n"
          ],
          "name": "stdout"
        },
        {
          "output_type": "stream",
          "text": [
            "100%|██████████| 4/4 [00:00<00:00, 10.47it/s]\n",
            "  0%|          | 0/40 [00:00<?, ?it/s]"
          ],
          "name": "stderr"
        },
        {
          "output_type": "stream",
          "text": [
            "val: bce: 0.019727, dice: 0.420344, loss: 0.220035\n",
            "0m 12s\n",
            "Epoch 18/59\n",
            "----------\n",
            "LR 0.0001\n"
          ],
          "name": "stdout"
        },
        {
          "output_type": "stream",
          "text": [
            "100%|██████████| 40/40 [00:11<00:00,  3.44it/s]\n",
            " 50%|█████     | 2/4 [00:00<00:00, 10.39it/s]"
          ],
          "name": "stderr"
        },
        {
          "output_type": "stream",
          "text": [
            "train: bce: 0.020255, dice: 0.463524, loss: 0.241890\n"
          ],
          "name": "stdout"
        },
        {
          "output_type": "stream",
          "text": [
            "100%|██████████| 4/4 [00:00<00:00, 10.36it/s]\n",
            "  0%|          | 0/40 [00:00<?, ?it/s]"
          ],
          "name": "stderr"
        },
        {
          "output_type": "stream",
          "text": [
            "val: bce: 0.024062, dice: 0.472607, loss: 0.248334\n",
            "0m 12s\n",
            "Epoch 19/59\n",
            "----------\n",
            "LR 0.0001\n"
          ],
          "name": "stdout"
        },
        {
          "output_type": "stream",
          "text": [
            "100%|██████████| 40/40 [00:11<00:00,  3.45it/s]\n",
            " 50%|█████     | 2/4 [00:00<00:00, 10.54it/s]"
          ],
          "name": "stderr"
        },
        {
          "output_type": "stream",
          "text": [
            "train: bce: 0.021047, dice: 0.407095, loss: 0.214071\n"
          ],
          "name": "stdout"
        },
        {
          "output_type": "stream",
          "text": [
            "100%|██████████| 4/4 [00:00<00:00, 10.56it/s]\n",
            "  0%|          | 0/40 [00:00<?, ?it/s]"
          ],
          "name": "stderr"
        },
        {
          "output_type": "stream",
          "text": [
            "val: bce: 0.016586, dice: 0.387117, loss: 0.201851\n",
            "saving best model\n",
            "0m 12s\n",
            "Epoch 20/59\n",
            "----------\n",
            "LR 0.0001\n"
          ],
          "name": "stdout"
        },
        {
          "output_type": "stream",
          "text": [
            "100%|██████████| 40/40 [00:11<00:00,  3.33it/s]\n",
            " 50%|█████     | 2/4 [00:00<00:00, 10.66it/s]"
          ],
          "name": "stderr"
        },
        {
          "output_type": "stream",
          "text": [
            "train: bce: 0.016704, dice: 0.386544, loss: 0.201624\n"
          ],
          "name": "stdout"
        },
        {
          "output_type": "stream",
          "text": [
            "100%|██████████| 4/4 [00:00<00:00, 10.38it/s]\n",
            "  0%|          | 0/40 [00:00<?, ?it/s]"
          ],
          "name": "stderr"
        },
        {
          "output_type": "stream",
          "text": [
            "val: bce: 0.015923, dice: 0.383382, loss: 0.199653\n",
            "saving best model\n",
            "0m 12s\n",
            "Epoch 21/59\n",
            "----------\n",
            "LR 0.0001\n"
          ],
          "name": "stdout"
        },
        {
          "output_type": "stream",
          "text": [
            "100%|██████████| 40/40 [00:11<00:00,  3.44it/s]\n",
            " 25%|██▌       | 1/4 [00:00<00:00,  9.69it/s]"
          ],
          "name": "stderr"
        },
        {
          "output_type": "stream",
          "text": [
            "train: bce: 0.015872, dice: 0.375606, loss: 0.195739\n"
          ],
          "name": "stdout"
        },
        {
          "output_type": "stream",
          "text": [
            "100%|██████████| 4/4 [00:00<00:00, 10.05it/s]\n",
            "  0%|          | 0/40 [00:00<?, ?it/s]"
          ],
          "name": "stderr"
        },
        {
          "output_type": "stream",
          "text": [
            "val: bce: 0.013860, dice: 0.373828, loss: 0.193844\n",
            "saving best model\n",
            "0m 12s\n",
            "Epoch 22/59\n",
            "----------\n",
            "LR 0.0001\n"
          ],
          "name": "stdout"
        },
        {
          "output_type": "stream",
          "text": [
            "100%|██████████| 40/40 [00:11<00:00,  3.43it/s]\n",
            " 50%|█████     | 2/4 [00:00<00:00, 10.56it/s]"
          ],
          "name": "stderr"
        },
        {
          "output_type": "stream",
          "text": [
            "train: bce: 0.012804, dice: 0.372510, loss: 0.192657\n"
          ],
          "name": "stdout"
        },
        {
          "output_type": "stream",
          "text": [
            "100%|██████████| 4/4 [00:00<00:00, 10.51it/s]\n",
            "  0%|          | 0/40 [00:00<?, ?it/s]"
          ],
          "name": "stderr"
        },
        {
          "output_type": "stream",
          "text": [
            "val: bce: 0.011099, dice: 0.374690, loss: 0.192894\n",
            "saving best model\n",
            "0m 12s\n",
            "Epoch 23/59\n",
            "----------\n",
            "LR 0.0001\n"
          ],
          "name": "stdout"
        },
        {
          "output_type": "stream",
          "text": [
            "100%|██████████| 40/40 [00:11<00:00,  3.45it/s]\n",
            " 50%|█████     | 2/4 [00:00<00:00, 10.15it/s]"
          ],
          "name": "stderr"
        },
        {
          "output_type": "stream",
          "text": [
            "train: bce: 0.010871, dice: 0.336982, loss: 0.173926\n"
          ],
          "name": "stdout"
        },
        {
          "output_type": "stream",
          "text": [
            "100%|██████████| 4/4 [00:00<00:00,  9.92it/s]\n",
            "  0%|          | 0/40 [00:00<?, ?it/s]"
          ],
          "name": "stderr"
        },
        {
          "output_type": "stream",
          "text": [
            "val: bce: 0.010454, dice: 0.325268, loss: 0.167861\n",
            "saving best model\n",
            "0m 12s\n",
            "Epoch 24/59\n",
            "----------\n",
            "LR 0.0001\n"
          ],
          "name": "stdout"
        },
        {
          "output_type": "stream",
          "text": [
            "100%|██████████| 40/40 [00:11<00:00,  3.43it/s]\n",
            " 50%|█████     | 2/4 [00:00<00:00, 10.67it/s]"
          ],
          "name": "stderr"
        },
        {
          "output_type": "stream",
          "text": [
            "train: bce: 0.011350, dice: 0.324590, loss: 0.167970\n"
          ],
          "name": "stdout"
        },
        {
          "output_type": "stream",
          "text": [
            "100%|██████████| 4/4 [00:00<00:00, 10.63it/s]\n",
            "  0%|          | 0/40 [00:00<?, ?it/s]"
          ],
          "name": "stderr"
        },
        {
          "output_type": "stream",
          "text": [
            "val: bce: 0.011216, dice: 0.318710, loss: 0.164963\n",
            "saving best model\n",
            "0m 12s\n",
            "Epoch 25/59\n",
            "----------\n",
            "LR 0.0001\n"
          ],
          "name": "stdout"
        },
        {
          "output_type": "stream",
          "text": [
            "100%|██████████| 40/40 [00:11<00:00,  3.38it/s]\n",
            " 50%|█████     | 2/4 [00:00<00:00, 10.68it/s]"
          ],
          "name": "stderr"
        },
        {
          "output_type": "stream",
          "text": [
            "train: bce: 0.010237, dice: 0.299754, loss: 0.154996\n"
          ],
          "name": "stdout"
        },
        {
          "output_type": "stream",
          "text": [
            "100%|██████████| 4/4 [00:00<00:00, 10.65it/s]\n",
            "  0%|          | 0/40 [00:00<?, ?it/s]"
          ],
          "name": "stderr"
        },
        {
          "output_type": "stream",
          "text": [
            "val: bce: 0.009897, dice: 0.306601, loss: 0.158249\n",
            "saving best model\n",
            "0m 12s\n",
            "Epoch 26/59\n",
            "----------\n",
            "LR 0.0001\n"
          ],
          "name": "stdout"
        },
        {
          "output_type": "stream",
          "text": [
            "100%|██████████| 40/40 [00:11<00:00,  3.41it/s]\n",
            " 50%|█████     | 2/4 [00:00<00:00, 10.36it/s]"
          ],
          "name": "stderr"
        },
        {
          "output_type": "stream",
          "text": [
            "train: bce: 0.009332, dice: 0.287522, loss: 0.148427\n"
          ],
          "name": "stdout"
        },
        {
          "output_type": "stream",
          "text": [
            "100%|██████████| 4/4 [00:00<00:00, 10.44it/s]\n",
            "  0%|          | 0/40 [00:00<?, ?it/s]"
          ],
          "name": "stderr"
        },
        {
          "output_type": "stream",
          "text": [
            "val: bce: 0.009693, dice: 0.300730, loss: 0.155211\n",
            "saving best model\n",
            "0m 12s\n",
            "Epoch 27/59\n",
            "----------\n",
            "LR 0.0001\n"
          ],
          "name": "stdout"
        },
        {
          "output_type": "stream",
          "text": [
            "100%|██████████| 40/40 [00:11<00:00,  3.44it/s]\n",
            " 25%|██▌       | 1/4 [00:00<00:00,  9.93it/s]"
          ],
          "name": "stderr"
        },
        {
          "output_type": "stream",
          "text": [
            "train: bce: 0.010128, dice: 0.292574, loss: 0.151351\n"
          ],
          "name": "stdout"
        },
        {
          "output_type": "stream",
          "text": [
            "100%|██████████| 4/4 [00:00<00:00, 10.29it/s]\n",
            "  0%|          | 0/40 [00:00<?, ?it/s]"
          ],
          "name": "stderr"
        },
        {
          "output_type": "stream",
          "text": [
            "val: bce: 0.010711, dice: 0.293301, loss: 0.152006\n",
            "saving best model\n",
            "0m 12s\n",
            "Epoch 28/59\n",
            "----------\n",
            "LR 0.0001\n"
          ],
          "name": "stdout"
        },
        {
          "output_type": "stream",
          "text": [
            "100%|██████████| 40/40 [00:11<00:00,  3.44it/s]\n",
            " 50%|█████     | 2/4 [00:00<00:00, 10.59it/s]"
          ],
          "name": "stderr"
        },
        {
          "output_type": "stream",
          "text": [
            "train: bce: 0.010746, dice: 0.288992, loss: 0.149869\n"
          ],
          "name": "stdout"
        },
        {
          "output_type": "stream",
          "text": [
            "100%|██████████| 4/4 [00:00<00:00, 10.52it/s]\n",
            "  0%|          | 0/40 [00:00<?, ?it/s]"
          ],
          "name": "stderr"
        },
        {
          "output_type": "stream",
          "text": [
            "val: bce: 0.012786, dice: 0.302851, loss: 0.157818\n",
            "0m 12s\n",
            "Epoch 29/59\n",
            "----------\n",
            "LR 1e-05\n"
          ],
          "name": "stdout"
        },
        {
          "output_type": "stream",
          "text": [
            "100%|██████████| 40/40 [00:11<00:00,  3.44it/s]\n",
            " 50%|█████     | 2/4 [00:00<00:00, 10.62it/s]"
          ],
          "name": "stderr"
        },
        {
          "output_type": "stream",
          "text": [
            "train: bce: 0.011214, dice: 0.275372, loss: 0.143293\n"
          ],
          "name": "stdout"
        },
        {
          "output_type": "stream",
          "text": [
            "100%|██████████| 4/4 [00:00<00:00, 10.55it/s]\n",
            "  0%|          | 0/40 [00:00<?, ?it/s]"
          ],
          "name": "stderr"
        },
        {
          "output_type": "stream",
          "text": [
            "val: bce: 0.011199, dice: 0.288488, loss: 0.149843\n",
            "saving best model\n",
            "0m 12s\n",
            "Epoch 30/59\n",
            "----------\n",
            "LR 1e-05\n"
          ],
          "name": "stdout"
        },
        {
          "output_type": "stream",
          "text": [
            "100%|██████████| 40/40 [00:11<00:00,  3.38it/s]\n",
            " 50%|█████     | 2/4 [00:00<00:00, 10.66it/s]"
          ],
          "name": "stderr"
        },
        {
          "output_type": "stream",
          "text": [
            "train: bce: 0.010701, dice: 0.265969, loss: 0.138335\n"
          ],
          "name": "stdout"
        },
        {
          "output_type": "stream",
          "text": [
            "100%|██████████| 4/4 [00:00<00:00, 10.35it/s]\n",
            "  0%|          | 0/40 [00:00<?, ?it/s]"
          ],
          "name": "stderr"
        },
        {
          "output_type": "stream",
          "text": [
            "val: bce: 0.010820, dice: 0.281589, loss: 0.146205\n",
            "saving best model\n",
            "0m 12s\n",
            "Epoch 31/59\n",
            "----------\n",
            "LR 1e-05\n"
          ],
          "name": "stdout"
        },
        {
          "output_type": "stream",
          "text": [
            "100%|██████████| 40/40 [00:11<00:00,  3.43it/s]\n",
            " 50%|█████     | 2/4 [00:00<00:00, 10.61it/s]"
          ],
          "name": "stderr"
        },
        {
          "output_type": "stream",
          "text": [
            "train: bce: 0.010517, dice: 0.264106, loss: 0.137311\n"
          ],
          "name": "stdout"
        },
        {
          "output_type": "stream",
          "text": [
            "100%|██████████| 4/4 [00:00<00:00, 10.60it/s]\n",
            "  0%|          | 0/40 [00:00<?, ?it/s]"
          ],
          "name": "stderr"
        },
        {
          "output_type": "stream",
          "text": [
            "val: bce: 0.010848, dice: 0.282233, loss: 0.146541\n",
            "0m 12s\n",
            "Epoch 32/59\n",
            "----------\n",
            "LR 1e-05\n"
          ],
          "name": "stdout"
        },
        {
          "output_type": "stream",
          "text": [
            "100%|██████████| 40/40 [00:11<00:00,  3.43it/s]\n",
            " 50%|█████     | 2/4 [00:00<00:00, 10.58it/s]"
          ],
          "name": "stderr"
        },
        {
          "output_type": "stream",
          "text": [
            "train: bce: 0.010562, dice: 0.265415, loss: 0.137988\n"
          ],
          "name": "stdout"
        },
        {
          "output_type": "stream",
          "text": [
            "100%|██████████| 4/4 [00:00<00:00, 10.60it/s]\n",
            "  0%|          | 0/40 [00:00<?, ?it/s]"
          ],
          "name": "stderr"
        },
        {
          "output_type": "stream",
          "text": [
            "val: bce: 0.011110, dice: 0.285378, loss: 0.148244\n",
            "0m 12s\n",
            "Epoch 33/59\n",
            "----------\n",
            "LR 1e-05\n"
          ],
          "name": "stdout"
        },
        {
          "output_type": "stream",
          "text": [
            "100%|██████████| 40/40 [00:11<00:00,  3.43it/s]\n",
            " 50%|█████     | 2/4 [00:00<00:00, 10.33it/s]"
          ],
          "name": "stderr"
        },
        {
          "output_type": "stream",
          "text": [
            "train: bce: 0.010712, dice: 0.266383, loss: 0.138547\n"
          ],
          "name": "stdout"
        },
        {
          "output_type": "stream",
          "text": [
            "100%|██████████| 4/4 [00:00<00:00, 10.15it/s]\n",
            "  0%|          | 0/40 [00:00<?, ?it/s]"
          ],
          "name": "stderr"
        },
        {
          "output_type": "stream",
          "text": [
            "val: bce: 0.011195, dice: 0.286262, loss: 0.148729\n",
            "0m 12s\n",
            "Epoch 34/59\n",
            "----------\n",
            "LR 1e-05\n"
          ],
          "name": "stdout"
        },
        {
          "output_type": "stream",
          "text": [
            "100%|██████████| 40/40 [00:11<00:00,  3.44it/s]\n",
            " 50%|█████     | 2/4 [00:00<00:00, 10.50it/s]"
          ],
          "name": "stderr"
        },
        {
          "output_type": "stream",
          "text": [
            "train: bce: 0.010675, dice: 0.266185, loss: 0.138430\n"
          ],
          "name": "stdout"
        },
        {
          "output_type": "stream",
          "text": [
            "100%|██████████| 4/4 [00:00<00:00, 10.49it/s]\n",
            "  0%|          | 0/40 [00:00<?, ?it/s]"
          ],
          "name": "stderr"
        },
        {
          "output_type": "stream",
          "text": [
            "val: bce: 0.011295, dice: 0.285476, loss: 0.148386\n",
            "0m 12s\n",
            "Epoch 35/59\n",
            "----------\n",
            "LR 1e-05\n"
          ],
          "name": "stdout"
        },
        {
          "output_type": "stream",
          "text": [
            "100%|██████████| 40/40 [00:11<00:00,  3.41it/s]\n",
            " 50%|█████     | 2/4 [00:00<00:00, 10.48it/s]"
          ],
          "name": "stderr"
        },
        {
          "output_type": "stream",
          "text": [
            "train: bce: 0.010668, dice: 0.265021, loss: 0.137845\n"
          ],
          "name": "stdout"
        },
        {
          "output_type": "stream",
          "text": [
            "100%|██████████| 4/4 [00:00<00:00, 10.51it/s]\n",
            "  0%|          | 0/40 [00:00<?, ?it/s]"
          ],
          "name": "stderr"
        },
        {
          "output_type": "stream",
          "text": [
            "val: bce: 0.011178, dice: 0.282973, loss: 0.147076\n",
            "0m 12s\n",
            "Epoch 36/59\n",
            "----------\n",
            "LR 1e-05\n"
          ],
          "name": "stdout"
        },
        {
          "output_type": "stream",
          "text": [
            "100%|██████████| 40/40 [00:11<00:00,  3.44it/s]\n",
            " 50%|█████     | 2/4 [00:00<00:00, 10.45it/s]"
          ],
          "name": "stderr"
        },
        {
          "output_type": "stream",
          "text": [
            "train: bce: 0.010596, dice: 0.265210, loss: 0.137903\n"
          ],
          "name": "stdout"
        },
        {
          "output_type": "stream",
          "text": [
            "100%|██████████| 4/4 [00:00<00:00, 10.50it/s]\n",
            "  0%|          | 0/40 [00:00<?, ?it/s]"
          ],
          "name": "stderr"
        },
        {
          "output_type": "stream",
          "text": [
            "val: bce: 0.011163, dice: 0.284285, loss: 0.147724\n",
            "0m 12s\n",
            "Epoch 37/59\n",
            "----------\n",
            "LR 1e-05\n"
          ],
          "name": "stdout"
        },
        {
          "output_type": "stream",
          "text": [
            "100%|██████████| 40/40 [00:11<00:00,  3.44it/s]\n",
            " 50%|█████     | 2/4 [00:00<00:00, 10.65it/s]"
          ],
          "name": "stderr"
        },
        {
          "output_type": "stream",
          "text": [
            "train: bce: 0.010736, dice: 0.269000, loss: 0.139868\n"
          ],
          "name": "stdout"
        },
        {
          "output_type": "stream",
          "text": [
            "100%|██████████| 4/4 [00:00<00:00, 10.51it/s]\n",
            "  0%|          | 0/40 [00:00<?, ?it/s]"
          ],
          "name": "stderr"
        },
        {
          "output_type": "stream",
          "text": [
            "val: bce: 0.011455, dice: 0.290171, loss: 0.150813\n",
            "0m 12s\n",
            "Epoch 38/59\n",
            "----------\n",
            "LR 1e-05\n"
          ],
          "name": "stdout"
        },
        {
          "output_type": "stream",
          "text": [
            "100%|██████████| 40/40 [00:11<00:00,  3.44it/s]\n",
            " 25%|██▌       | 1/4 [00:00<00:00,  9.90it/s]"
          ],
          "name": "stderr"
        },
        {
          "output_type": "stream",
          "text": [
            "train: bce: 0.010730, dice: 0.271250, loss: 0.140990\n"
          ],
          "name": "stdout"
        },
        {
          "output_type": "stream",
          "text": [
            "100%|██████████| 4/4 [00:00<00:00, 10.23it/s]\n",
            "  0%|          | 0/40 [00:00<?, ?it/s]"
          ],
          "name": "stderr"
        },
        {
          "output_type": "stream",
          "text": [
            "val: bce: 0.011411, dice: 0.293492, loss: 0.152451\n",
            "0m 12s\n",
            "Epoch 39/59\n",
            "----------\n",
            "LR 1e-05\n"
          ],
          "name": "stdout"
        },
        {
          "output_type": "stream",
          "text": [
            "\r  2%|▎         | 1/40 [00:00<00:11,  3.35it/s]\n"
          ],
          "name": "stderr"
        },
        {
          "output_type": "error",
          "ename": "KeyboardInterrupt",
          "evalue": "ignored",
          "traceback": [
            "\u001b[0;31m---------------------------------------------------------------------------\u001b[0m",
            "\u001b[0;31mKeyboardInterrupt\u001b[0m                         Traceback (most recent call last)",
            "\u001b[0;32m<ipython-input-7-2bc2ddc7362b>\u001b[0m in \u001b[0;36m<module>\u001b[0;34m()\u001b[0m\n\u001b[1;32m     21\u001b[0m \u001b[0mexp_lr_scheduler\u001b[0m \u001b[0;34m=\u001b[0m \u001b[0mlr_scheduler\u001b[0m\u001b[0;34m.\u001b[0m\u001b[0mStepLR\u001b[0m\u001b[0;34m(\u001b[0m\u001b[0moptimizer_ft\u001b[0m\u001b[0;34m,\u001b[0m \u001b[0mstep_size\u001b[0m\u001b[0;34m=\u001b[0m\u001b[0;36m30\u001b[0m\u001b[0;34m,\u001b[0m \u001b[0mgamma\u001b[0m\u001b[0;34m=\u001b[0m\u001b[0;36m0.1\u001b[0m\u001b[0;34m)\u001b[0m\u001b[0;34m\u001b[0m\u001b[0;34m\u001b[0m\u001b[0m\n\u001b[1;32m     22\u001b[0m \u001b[0;34m\u001b[0m\u001b[0m\n\u001b[0;32m---> 23\u001b[0;31m \u001b[0mmodel\u001b[0m \u001b[0;34m=\u001b[0m \u001b[0mtrain_model\u001b[0m\u001b[0;34m(\u001b[0m\u001b[0mmodel\u001b[0m\u001b[0;34m,\u001b[0m \u001b[0moptimizer_ft\u001b[0m\u001b[0;34m,\u001b[0m \u001b[0mexp_lr_scheduler\u001b[0m\u001b[0;34m,\u001b[0m \u001b[0mnum_epochs\u001b[0m\u001b[0;34m=\u001b[0m\u001b[0;36m60\u001b[0m\u001b[0;34m)\u001b[0m\u001b[0;34m\u001b[0m\u001b[0;34m\u001b[0m\u001b[0m\n\u001b[0m",
            "\u001b[0;32m<ipython-input-6-8b05f755fd46>\u001b[0m in \u001b[0;36mtrain_model\u001b[0;34m(model, optimizer, scheduler, num_epochs)\u001b[0m\n\u001b[1;32m     63\u001b[0m                 \u001b[0;31m# track history if only in train\u001b[0m\u001b[0;34m\u001b[0m\u001b[0;34m\u001b[0m\u001b[0;34m\u001b[0m\u001b[0m\n\u001b[1;32m     64\u001b[0m                 \u001b[0;32mwith\u001b[0m \u001b[0mtorch\u001b[0m\u001b[0;34m.\u001b[0m\u001b[0mset_grad_enabled\u001b[0m\u001b[0;34m(\u001b[0m\u001b[0mphase\u001b[0m \u001b[0;34m==\u001b[0m \u001b[0;34m'train'\u001b[0m\u001b[0;34m)\u001b[0m\u001b[0;34m:\u001b[0m\u001b[0;34m\u001b[0m\u001b[0;34m\u001b[0m\u001b[0m\n\u001b[0;32m---> 65\u001b[0;31m                     \u001b[0moutputs\u001b[0m \u001b[0;34m=\u001b[0m \u001b[0mmodel\u001b[0m\u001b[0;34m(\u001b[0m\u001b[0minputs\u001b[0m\u001b[0;34m)\u001b[0m\u001b[0;34m\u001b[0m\u001b[0;34m\u001b[0m\u001b[0m\n\u001b[0m\u001b[1;32m     66\u001b[0m                     \u001b[0mloss\u001b[0m \u001b[0;34m=\u001b[0m \u001b[0mcalc_loss\u001b[0m\u001b[0;34m(\u001b[0m\u001b[0moutputs\u001b[0m\u001b[0;34m,\u001b[0m \u001b[0mlabels\u001b[0m\u001b[0;34m,\u001b[0m \u001b[0mmetrics\u001b[0m\u001b[0;34m)\u001b[0m\u001b[0;34m\u001b[0m\u001b[0;34m\u001b[0m\u001b[0m\n\u001b[1;32m     67\u001b[0m \u001b[0;34m\u001b[0m\u001b[0m\n",
            "\u001b[0;32m/usr/local/lib/python3.6/dist-packages/torch/nn/modules/module.py\u001b[0m in \u001b[0;36m__call__\u001b[0;34m(self, *input, **kwargs)\u001b[0m\n\u001b[1;32m    530\u001b[0m             \u001b[0mresult\u001b[0m \u001b[0;34m=\u001b[0m \u001b[0mself\u001b[0m\u001b[0;34m.\u001b[0m\u001b[0m_slow_forward\u001b[0m\u001b[0;34m(\u001b[0m\u001b[0;34m*\u001b[0m\u001b[0minput\u001b[0m\u001b[0;34m,\u001b[0m \u001b[0;34m**\u001b[0m\u001b[0mkwargs\u001b[0m\u001b[0;34m)\u001b[0m\u001b[0;34m\u001b[0m\u001b[0;34m\u001b[0m\u001b[0m\n\u001b[1;32m    531\u001b[0m         \u001b[0;32melse\u001b[0m\u001b[0;34m:\u001b[0m\u001b[0;34m\u001b[0m\u001b[0;34m\u001b[0m\u001b[0m\n\u001b[0;32m--> 532\u001b[0;31m             \u001b[0mresult\u001b[0m \u001b[0;34m=\u001b[0m \u001b[0mself\u001b[0m\u001b[0;34m.\u001b[0m\u001b[0mforward\u001b[0m\u001b[0;34m(\u001b[0m\u001b[0;34m*\u001b[0m\u001b[0minput\u001b[0m\u001b[0;34m,\u001b[0m \u001b[0;34m**\u001b[0m\u001b[0mkwargs\u001b[0m\u001b[0;34m)\u001b[0m\u001b[0;34m\u001b[0m\u001b[0;34m\u001b[0m\u001b[0m\n\u001b[0m\u001b[1;32m    533\u001b[0m         \u001b[0;32mfor\u001b[0m \u001b[0mhook\u001b[0m \u001b[0;32min\u001b[0m \u001b[0mself\u001b[0m\u001b[0;34m.\u001b[0m\u001b[0m_forward_hooks\u001b[0m\u001b[0;34m.\u001b[0m\u001b[0mvalues\u001b[0m\u001b[0;34m(\u001b[0m\u001b[0;34m)\u001b[0m\u001b[0;34m:\u001b[0m\u001b[0;34m\u001b[0m\u001b[0;34m\u001b[0m\u001b[0m\n\u001b[1;32m    534\u001b[0m             \u001b[0mhook_result\u001b[0m \u001b[0;34m=\u001b[0m \u001b[0mhook\u001b[0m\u001b[0;34m(\u001b[0m\u001b[0mself\u001b[0m\u001b[0;34m,\u001b[0m \u001b[0minput\u001b[0m\u001b[0;34m,\u001b[0m \u001b[0mresult\u001b[0m\u001b[0;34m)\u001b[0m\u001b[0;34m\u001b[0m\u001b[0;34m\u001b[0m\u001b[0m\n",
            "\u001b[0;32m<ipython-input-5-c69e3981e712>\u001b[0m in \u001b[0;36mforward\u001b[0;34m(self, x, return_features)\u001b[0m\n\u001b[1;32m    203\u001b[0m         \u001b[0mx\u001b[0m \u001b[0;34m=\u001b[0m \u001b[0mnn\u001b[0m\u001b[0;34m.\u001b[0m\u001b[0mfunctional\u001b[0m\u001b[0;34m.\u001b[0m\u001b[0minterpolate\u001b[0m\u001b[0;34m(\u001b[0m\u001b[0mx\u001b[0m\u001b[0;34m,\u001b[0m \u001b[0mscale_factor\u001b[0m\u001b[0;34m=\u001b[0m\u001b[0;36m0.5\u001b[0m\u001b[0;34m,\u001b[0m \u001b[0mmode\u001b[0m\u001b[0;34m=\u001b[0m\u001b[0;34m'bilinear'\u001b[0m\u001b[0;34m,\u001b[0m \u001b[0malign_corners\u001b[0m\u001b[0;34m=\u001b[0m\u001b[0;32mFalse\u001b[0m\u001b[0;34m)\u001b[0m\u001b[0;34m\u001b[0m\u001b[0;34m\u001b[0m\u001b[0m\n\u001b[1;32m    204\u001b[0m \u001b[0;34m\u001b[0m\u001b[0m\n\u001b[0;32m--> 205\u001b[0;31m         \u001b[0mfeatures4\u001b[0m \u001b[0;34m=\u001b[0m \u001b[0mself\u001b[0m\u001b[0;34m.\u001b[0m\u001b[0modeblock_down4\u001b[0m\u001b[0;34m(\u001b[0m\u001b[0mx\u001b[0m\u001b[0;34m)\u001b[0m  \u001b[0;31m# 64\u001b[0m\u001b[0;34m\u001b[0m\u001b[0;34m\u001b[0m\u001b[0m\n\u001b[0m\u001b[1;32m    206\u001b[0m         \u001b[0mx\u001b[0m \u001b[0;34m=\u001b[0m \u001b[0mself\u001b[0m\u001b[0;34m.\u001b[0m\u001b[0mnon_linearity\u001b[0m\u001b[0;34m(\u001b[0m\u001b[0mself\u001b[0m\u001b[0;34m.\u001b[0m\u001b[0mconv_down4_embed\u001b[0m\u001b[0;34m(\u001b[0m\u001b[0mfeatures4\u001b[0m\u001b[0;34m)\u001b[0m\u001b[0;34m)\u001b[0m\u001b[0;34m\u001b[0m\u001b[0;34m\u001b[0m\u001b[0m\n\u001b[1;32m    207\u001b[0m         \u001b[0mx\u001b[0m \u001b[0;34m=\u001b[0m \u001b[0mnn\u001b[0m\u001b[0;34m.\u001b[0m\u001b[0mfunctional\u001b[0m\u001b[0;34m.\u001b[0m\u001b[0minterpolate\u001b[0m\u001b[0;34m(\u001b[0m\u001b[0mx\u001b[0m\u001b[0;34m,\u001b[0m \u001b[0mscale_factor\u001b[0m\u001b[0;34m=\u001b[0m\u001b[0;36m0.5\u001b[0m\u001b[0;34m,\u001b[0m \u001b[0mmode\u001b[0m\u001b[0;34m=\u001b[0m\u001b[0;34m'bilinear'\u001b[0m\u001b[0;34m,\u001b[0m \u001b[0malign_corners\u001b[0m\u001b[0;34m=\u001b[0m\u001b[0;32mFalse\u001b[0m\u001b[0;34m)\u001b[0m\u001b[0;34m\u001b[0m\u001b[0;34m\u001b[0m\u001b[0m\n",
            "\u001b[0;32m/usr/local/lib/python3.6/dist-packages/torch/nn/modules/module.py\u001b[0m in \u001b[0;36m__call__\u001b[0;34m(self, *input, **kwargs)\u001b[0m\n\u001b[1;32m    530\u001b[0m             \u001b[0mresult\u001b[0m \u001b[0;34m=\u001b[0m \u001b[0mself\u001b[0m\u001b[0;34m.\u001b[0m\u001b[0m_slow_forward\u001b[0m\u001b[0;34m(\u001b[0m\u001b[0;34m*\u001b[0m\u001b[0minput\u001b[0m\u001b[0;34m,\u001b[0m \u001b[0;34m**\u001b[0m\u001b[0mkwargs\u001b[0m\u001b[0;34m)\u001b[0m\u001b[0;34m\u001b[0m\u001b[0;34m\u001b[0m\u001b[0m\n\u001b[1;32m    531\u001b[0m         \u001b[0;32melse\u001b[0m\u001b[0;34m:\u001b[0m\u001b[0;34m\u001b[0m\u001b[0;34m\u001b[0m\u001b[0m\n\u001b[0;32m--> 532\u001b[0;31m             \u001b[0mresult\u001b[0m \u001b[0;34m=\u001b[0m \u001b[0mself\u001b[0m\u001b[0;34m.\u001b[0m\u001b[0mforward\u001b[0m\u001b[0;34m(\u001b[0m\u001b[0;34m*\u001b[0m\u001b[0minput\u001b[0m\u001b[0;34m,\u001b[0m \u001b[0;34m**\u001b[0m\u001b[0mkwargs\u001b[0m\u001b[0;34m)\u001b[0m\u001b[0;34m\u001b[0m\u001b[0;34m\u001b[0m\u001b[0m\n\u001b[0m\u001b[1;32m    533\u001b[0m         \u001b[0;32mfor\u001b[0m \u001b[0mhook\u001b[0m \u001b[0;32min\u001b[0m \u001b[0mself\u001b[0m\u001b[0;34m.\u001b[0m\u001b[0m_forward_hooks\u001b[0m\u001b[0;34m.\u001b[0m\u001b[0mvalues\u001b[0m\u001b[0;34m(\u001b[0m\u001b[0;34m)\u001b[0m\u001b[0;34m:\u001b[0m\u001b[0;34m\u001b[0m\u001b[0;34m\u001b[0m\u001b[0m\n\u001b[1;32m    534\u001b[0m             \u001b[0mhook_result\u001b[0m \u001b[0;34m=\u001b[0m \u001b[0mhook\u001b[0m\u001b[0;34m(\u001b[0m\u001b[0mself\u001b[0m\u001b[0;34m,\u001b[0m \u001b[0minput\u001b[0m\u001b[0;34m,\u001b[0m \u001b[0mresult\u001b[0m\u001b[0;34m)\u001b[0m\u001b[0;34m\u001b[0m\u001b[0;34m\u001b[0m\u001b[0m\n",
            "\u001b[0;32m<ipython-input-5-c69e3981e712>\u001b[0m in \u001b[0;36mforward\u001b[0;34m(self, x, eval_times)\u001b[0m\n\u001b[1;32m     34\u001b[0m \u001b[0;34m\u001b[0m\u001b[0m\n\u001b[1;32m     35\u001b[0m         \u001b[0;32mif\u001b[0m \u001b[0meval_times\u001b[0m \u001b[0;32mis\u001b[0m \u001b[0;32mNone\u001b[0m\u001b[0;34m:\u001b[0m\u001b[0;34m\u001b[0m\u001b[0;34m\u001b[0m\u001b[0m\n\u001b[0;32m---> 36\u001b[0;31m             \u001b[0mintegration_time\u001b[0m \u001b[0;34m=\u001b[0m \u001b[0mtorch\u001b[0m\u001b[0;34m.\u001b[0m\u001b[0mtensor\u001b[0m\u001b[0;34m(\u001b[0m\u001b[0;34m[\u001b[0m\u001b[0;36m0\u001b[0m\u001b[0;34m,\u001b[0m \u001b[0;36m1\u001b[0m\u001b[0;34m]\u001b[0m\u001b[0;34m)\u001b[0m\u001b[0;34m.\u001b[0m\u001b[0mfloat\u001b[0m\u001b[0;34m(\u001b[0m\u001b[0;34m)\u001b[0m\u001b[0;34m.\u001b[0m\u001b[0mtype_as\u001b[0m\u001b[0;34m(\u001b[0m\u001b[0mx\u001b[0m\u001b[0;34m)\u001b[0m\u001b[0;34m\u001b[0m\u001b[0;34m\u001b[0m\u001b[0m\n\u001b[0m\u001b[1;32m     37\u001b[0m         \u001b[0;32melse\u001b[0m\u001b[0;34m:\u001b[0m\u001b[0;34m\u001b[0m\u001b[0;34m\u001b[0m\u001b[0m\n\u001b[1;32m     38\u001b[0m             \u001b[0mintegration_time\u001b[0m \u001b[0;34m=\u001b[0m \u001b[0meval_times\u001b[0m\u001b[0;34m.\u001b[0m\u001b[0mtype_as\u001b[0m\u001b[0;34m(\u001b[0m\u001b[0mx\u001b[0m\u001b[0;34m)\u001b[0m\u001b[0;34m\u001b[0m\u001b[0;34m\u001b[0m\u001b[0m\n",
            "\u001b[0;31mKeyboardInterrupt\u001b[0m: "
          ]
        }
      ]
    },
    {
      "cell_type": "code",
      "metadata": {
        "id": "i65JBfTlaPAA",
        "colab_type": "code",
        "outputId": "3ce9db52-a66d-47da-ae07-d17e765e1737",
        "colab": {
          "base_uri": "https://localhost:8080/",
          "height": 808
        }
      },
      "source": [
        "import math\n",
        "import torchvision.utils\n",
        "\n",
        "def reverse_transform(inp):\n",
        "    inp = inp.numpy().transpose((1, 2, 0))\n",
        "    mean = np.array([0.485, 0.456, 0.406])\n",
        "    std = np.array([0.229, 0.224, 0.225])\n",
        "    inp = std * inp + mean\n",
        "    inp = np.clip(inp, 0, 1)\n",
        "    inp = (inp * 255).astype(np.uint8)\n",
        "\n",
        "    return inp\n",
        "\n",
        "model.eval()   # Set model to the evaluation mode\n",
        "\n",
        "# Create another simulation dataset for test\n",
        "test_dataset = SimDataset(3, transform = trans)\n",
        "test_loader = DataLoader(test_dataset, batch_size=3, shuffle=False, num_workers=0)\n",
        "\n",
        "# Get the first batch\n",
        "inputs, labels = next(iter(test_loader))\n",
        "inputs = inputs.to(device)\n",
        "labels = labels.to(device)\n",
        "\n",
        "# Predict\n",
        "t=time.time()\n",
        "pred = model(inputs)\n",
        "t1=time.time()\n",
        "# The loss functions include the sigmoid function.\n",
        "pred = F.sigmoid(pred)\n",
        "te=time.time()\n",
        "print(te-t)\n",
        "pred = pred.data.cpu().numpy()\n",
        "print(pred.shape)\n",
        "\n",
        "# Change channel-order and make 3 channels for matplot\n",
        "input_images_rgb = [reverse_transform(x) for x in inputs.cpu()]\n",
        "\n",
        "# Map each channel (i.e. class) to each color\n",
        "target_masks_rgb = [helper.masks_to_colorimg(x) for x in labels.cpu().numpy()]\n",
        "pred_rgb = [helper.masks_to_colorimg(x) for x in pred]\n",
        "\n",
        "helper.plot_side_by_side([input_images_rgb, target_masks_rgb, pred_rgb])\n"
      ],
      "execution_count": 10,
      "outputs": [
        {
          "output_type": "stream",
          "text": [
            "/usr/local/lib/python3.6/dist-packages/torchdiffeq/_impl/misc.py:81: UserWarning: Euler: Unexpected arguments {'max_num_steps': 1000}\n",
            "  warnings.warn('{}: Unexpected arguments {}'.format(solver.__class__.__name__, unused_kwargs))\n",
            "/usr/local/lib/python3.6/dist-packages/torch/nn/functional.py:1351: UserWarning: nn.functional.sigmoid is deprecated. Use torch.sigmoid instead.\n",
            "  warnings.warn(\"nn.functional.sigmoid is deprecated. Use torch.sigmoid instead.\")\n"
          ],
          "name": "stderr"
        },
        {
          "output_type": "stream",
          "text": [
            "0.01828622817993164\n",
            "(3, 6, 192, 192)\n"
          ],
          "name": "stdout"
        },
        {
          "output_type": "display_data",
          "data": {
            "image/png": "[encoded data removed]",
            "text/plain": [
              "<Figure size 864x864 with 9 Axes>"
            ]
          },
          "metadata": {
            "tags": []
          }
        }
      ]
    },
    {
      "cell_type": "code",
      "metadata": {
        "id": "kkzdbjxGelP9",
        "colab_type": "code",
        "colab": {}
      },
      "source": [
        "def count_parameters(model):\n",
        "    return sum(p.numel() for p in model.parameters() if p.requires_grad)\n",
        "count_parameters(model)"
      ],
      "execution_count": 0,
      "outputs": []
    },
    {
      "cell_type": "code",
      "metadata": {
        "id": "4MVkTwW89drf",
        "colab_type": "code",
        "colab": {}
      },
      "source": [
        "tol"
      ],
      "execution_count": 0,
      "outputs": []
    }
  ]
}